{
 "cells": [
  {
   "cell_type": "markdown",
   "id": "8478ac36",
   "metadata": {},
   "source": [
    "### 1. Coverting an integer into decimal"
   ]
  },
  {
   "cell_type": "code",
   "execution_count": null,
   "id": "a084f82f",
   "metadata": {},
   "outputs": [
    {
     "name": "stdout",
     "output_type": "stream",
     "text": [
      "40\n",
      "<class 'decimal.Decimal'>\n",
      "<class 'int'>\n"
     ]
    }
   ],
   "source": [
    "import decimal as dec\n",
    "num = 40\n",
    "print(dec.Decimal(num))\n",
    "print(type(dec.Decimal(num)))\n"
   ]
  },
  {
   "cell_type": "markdown",
   "id": "ef625fb6",
   "metadata": {},
   "source": [
    "### 2. Converting an string of integers into decimal"
   ]
  },
  {
   "cell_type": "code",
   "execution_count": 4,
   "id": "1c1d6d4e",
   "metadata": {},
   "outputs": [
    {
     "name": "stdout",
     "output_type": "stream",
     "text": [
      "12345\n",
      "<class 'decimal.Decimal'>\n"
     ]
    }
   ],
   "source": [
    "str = \"12345\"\n",
    "print(dec.Decimal(str))\n",
    "print(type(dec.Decimal(str)))"
   ]
  },
  {
   "cell_type": "markdown",
   "id": "c112b0cc",
   "metadata": {},
   "source": [
    "### 3. Reversing a string using an Extended slicing technique"
   ]
  },
  {
   "cell_type": "code",
   "execution_count": 5,
   "id": "e0a785e7",
   "metadata": {},
   "outputs": [
    {
     "name": "stdout",
     "output_type": "stream",
     "text": [
      "gnal gnimmargorp a si nohtyp\n",
      "mom\n"
     ]
    }
   ],
   "source": [
    "s = \"python is a programming lang\"\n",
    "print(s[::-1])\n",
    "m = 'mom'\n",
    "print(m[::-1])"
   ]
  },
  {
   "cell_type": "markdown",
   "id": "0bdf8735",
   "metadata": {},
   "source": [
    "### 4. counting vowels in give word"
   ]
  },
  {
   "cell_type": "code",
   "execution_count": 12,
   "id": "552c8286",
   "metadata": {},
   "outputs": [
    {
     "name": "stdout",
     "output_type": "stream",
     "text": [
      "4\n"
     ]
    }
   ],
   "source": [
    "vowels = ['a','e','i','o','u']\n",
    "word = 'gunasai'\n",
    "count = 0\n",
    "for i in range(len(word)):\n",
    "    if word[i] in vowels:\n",
    "        count+=1\n",
    "print(count)"
   ]
  },
  {
   "cell_type": "markdown",
   "id": "ce65e754",
   "metadata": {},
   "source": [
    "### 5. counting consonants in a given word"
   ]
  },
  {
   "cell_type": "code",
   "execution_count": 13,
   "id": "3c8b5814",
   "metadata": {},
   "outputs": [
    {
     "name": "stdout",
     "output_type": "stream",
     "text": [
      "3\n"
     ]
    }
   ],
   "source": [
    "vowels = ['a','e','i','o','u']\n",
    "word = 'gunasai'\n",
    "count = 0\n",
    "for i in range(len(word)):\n",
    "    if word[i] not in vowels:\n",
    "        count+=1\n",
    "print(count)"
   ]
  },
  {
   "cell_type": "markdown",
   "id": "d3b08042",
   "metadata": {},
   "source": [
    "### 6. counting the number of occurances of a character in a string"
   ]
  },
  {
   "cell_type": "code",
   "execution_count": 19,
   "id": "2799e629",
   "metadata": {},
   "outputs": [
    {
     "name": "stdout",
     "output_type": "stream",
     "text": [
      "2\n",
      "3\n"
     ]
    }
   ],
   "source": [
    "string = 'hi!, i am gunsai.'\n",
    "char = 'a'\n",
    "count = 0\n",
    "symbols_count = 0\n",
    "\n",
    "for i in range(len(string)):\n",
    "    if string[i] == char:\n",
    "        count+=1\n",
    "    elif string[i] in [\",\",\"!\",\".\",\"@\",\"'\"]:\n",
    "        symbols_count+=1\n",
    "        \n",
    "\n",
    "print(count)\n",
    "print(symbols_count)"
   ]
  },
  {
   "cell_type": "markdown",
   "id": "d246b579",
   "metadata": {},
   "source": [
    "### 7. writing FIBONACCI series"
   ]
  },
  {
   "cell_type": "code",
   "execution_count": 31,
   "id": "3e3c50f0",
   "metadata": {},
   "outputs": [
    {
     "name": "stdout",
     "output_type": "stream",
     "text": [
      "0, 1, 1, 2, 3, 5, 8, 13, 21, 34, 55, 89, 144\n"
     ]
    }
   ],
   "source": [
    "fib = [0,1]\n",
    "for i in range(11):\n",
    "    fib.append(fib[-1]+fib[-2])\n",
    "\n",
    "print(\", \".join(str(n) for n in fib))\n"
   ]
  },
  {
   "cell_type": "markdown",
   "id": "86cf6d7d",
   "metadata": {},
   "source": [
    "### 8. finding max number in a list without using max function"
   ]
  },
  {
   "cell_type": "code",
   "execution_count": 33,
   "id": "6603bf5d",
   "metadata": {},
   "outputs": [
    {
     "name": "stdout",
     "output_type": "stream",
     "text": [
      "max num:1001\n"
     ]
    }
   ],
   "source": [
    "lst = [30,65,3,89,7,98,1001,56,87,100,67,2,110]\n",
    "max_num = lst[0]\n",
    "for num in lst:\n",
    "    if max_num < num:\n",
    "        max_num = num\n",
    "print(f\"max num:{max_num}\")"
   ]
  },
  {
   "cell_type": "markdown",
   "id": "4653d562",
   "metadata": {},
   "source": [
    "### 9. finding the min number in a list without using min function"
   ]
  },
  {
   "cell_type": "code",
   "execution_count": 4,
   "id": "b745b0a6",
   "metadata": {},
   "outputs": [
    {
     "name": "stdout",
     "output_type": "stream",
     "text": [
      "min_num: 3\n"
     ]
    }
   ],
   "source": [
    "lst = [91,8,10,6,89,23,89,3]\n",
    "min_num = lst[0]\n",
    "for i in lst:\n",
    "    if min_num > i:\n",
    "        min_num = i\n",
    "print(\"min_num:\",format(min_num)) "
   ]
  },
  {
   "cell_type": "markdown",
   "id": "973c0909",
   "metadata": {},
   "source": [
    "### 10. finding the middle element in a list "
   ]
  },
  {
   "cell_type": "code",
   "execution_count": 17,
   "id": "ee6e8c44",
   "metadata": {},
   "outputs": [
    {
     "name": "stdout",
     "output_type": "stream",
     "text": [
      "the mid element is :6\n"
     ]
    }
   ],
   "source": [
    "lst = [12,3,55,23,6,76,33,57]\n",
    "mid_ele = len(lst)//2\n",
    "print(f\"the mid element is :{lst[mid_ele]}\")"
   ]
  },
  {
   "cell_type": "markdown",
   "id": "d3643241",
   "metadata": {},
   "source": [
    "### 11. converting a list into a string"
   ]
  },
  {
   "cell_type": "code",
   "execution_count": 19,
   "id": "c4e288fc",
   "metadata": {},
   "outputs": [
    {
     "name": "stdout",
     "output_type": "stream",
     "text": [
      "gunasai\n",
      "<class 'str'>\n"
     ]
    }
   ],
   "source": [
    "lst = ['g','u','n','a','s','a','i']\n",
    "lst1 =''.join(lst)\n",
    "print(lst1)\n",
    "print(type(lst1))"
   ]
  },
  {
   "cell_type": "markdown",
   "id": "fd9bab45",
   "metadata": {},
   "source": [
    "### 12. Adding two list elements together"
   ]
  },
  {
   "cell_type": "code",
   "execution_count": 30,
   "id": "35b10f03",
   "metadata": {},
   "outputs": [
    {
     "name": "stdout",
     "output_type": "stream",
     "text": [
      "[5, 7, 9]\n"
     ]
    }
   ],
   "source": [
    "lst1 = [1,2,3]\n",
    "lst2 = [4,5,6]\n",
    "res_lst = []\n",
    "for i in range(len(lst1)):\n",
    "    res_lst.append(lst1[i]+lst2[i])\n",
    "print(res_lst)"
   ]
  },
  {
   "cell_type": "markdown",
   "id": "f9a4132f",
   "metadata": {},
   "source": [
    "### 13. comparing two strings for ANAGRAMES"
   ]
  },
  {
   "cell_type": "code",
   "execution_count": 52,
   "id": "6ee2cecc",
   "metadata": {},
   "outputs": [
    {
     "name": "stdout",
     "output_type": "stream",
     "text": [
      "True\n"
     ]
    }
   ],
   "source": [
    "str1 = 'Listen'\n",
    "str2 = 'Silent'\n",
    "str1 = str1.replace(\" \",'').lower()\n",
    "str2 = str2.replace(\" \",'').lower()\n",
    "\n",
    "if sorted(str1) == sorted(str2):\n",
    "    print(True)\n",
    "else:\n",
    "    print(False)\n",
    "\n"
   ]
  },
  {
   "cell_type": "markdown",
   "id": "d14c28c5",
   "metadata": {},
   "source": [
    "### 14. checking for PALINDROME using Extended slicing Technique"
   ]
  },
  {
   "cell_type": "code",
   "execution_count": 89,
   "id": "c823ba4d",
   "metadata": {},
   "outputs": [
    {
     "name": "stdout",
     "output_type": "stream",
     "text": [
      "True\n"
     ]
    }
   ],
   "source": [
    "str1 = 'mom'.lower()\n",
    "\n",
    "if str1 == str1[::-1]:\n",
    "    print(True)\n",
    "else:\n",
    "    print(False)"
   ]
  },
  {
   "cell_type": "markdown",
   "id": "e50fca13",
   "metadata": {},
   "source": [
    "### 15. counting the white space in a string"
   ]
  },
  {
   "cell_type": "code",
   "execution_count": null,
   "id": "45639ae7",
   "metadata": {},
   "outputs": [
    {
     "name": "stdout",
     "output_type": "stream",
     "text": [
      "5\n",
      "5\n"
     ]
    }
   ],
   "source": [
    "str1 = 'guna sai is very good programer'\n",
    "count = 0\n",
    "\n",
    "for char in range(len(str1)):\n",
    "    if str1[char] == \" \":\n",
    "        count+=1\n",
    "\n",
    "# two ways to find the white space\n",
    "count1 = str1.count(\" \")\n",
    "\n",
    "print(count1)\n",
    "print(count)\n"
   ]
  },
  {
   "cell_type": "markdown",
   "id": "c7d658e7",
   "metadata": {},
   "source": [
    "### 16. counting digits, letters, and spaces in a string"
   ]
  },
  {
   "cell_type": "code",
   "execution_count": null,
   "id": "314e86aa",
   "metadata": {},
   "outputs": [
    {
     "name": "stdout",
     "output_type": "stream",
     "text": [
      "no of char:7\n",
      "no of space:1\n",
      "no of numbers:3\n"
     ]
    }
   ],
   "source": [
    "str1 = \"guna sai123\"\n",
    "\n",
    "count_char = 0\n",
    "count_space = 0\n",
    "count_num = 0\n",
    "\n",
    "for i in range(len(str1)):\n",
    "    if str1[i].isalpha():\n",
    "        count_char+=1\n",
    "    elif str1[i].isalnum():\n",
    "        count_num+=1\n",
    "    elif str1[i] == ' ':\n",
    "        count_space+=1\n",
    "    else:\n",
    "        print(\"string contains a symbols\")\n",
    "\n",
    "print(f\"no of char:{count_char}\")\n",
    "print(f\"no of space:{count_space}\")\n",
    "print(f\"no of numbers:{count_num}\")"
   ]
  },
  {
   "cell_type": "code",
   "execution_count": 139,
   "id": "a21e4185",
   "metadata": {},
   "outputs": [
    {
     "name": "stdout",
     "output_type": "stream",
     "text": [
      "7\n",
      "1\n",
      "3\n"
     ]
    },
    {
     "name": "stderr",
     "output_type": "stream",
     "text": [
      "<>:7: SyntaxWarning: invalid escape sequence '\\s'\n",
      "<>:7: SyntaxWarning: invalid escape sequence '\\s'\n",
      "C:\\Users\\DELL\\AppData\\Local\\Temp\\ipykernel_4120\\1265569971.py:7: SyntaxWarning: invalid escape sequence '\\s'\n",
      "  spaceCount = re.findall(\"[ \\s]\",name)\n"
     ]
    }
   ],
   "source": [
    "import re\n",
    "\n",
    "name = 'guna sai123'\n",
    "\n",
    "charCount = re.sub(\"[^a-zA-Z]\",\"\",name)\n",
    "numCount = re.sub(\"[^0-9]\",\"\",name)\n",
    "spaceCount = re.findall(\"[ \\s]\",name)\n",
    "\n",
    "\n",
    "print(len(charCount))\n",
    "print(len(spaceCount))\n",
    "print(len(numCount))"
   ]
  },
  {
   "cell_type": "markdown",
   "id": "c24e7905",
   "metadata": {},
   "source": [
    "### 17. Counting special characters in a string"
   ]
  },
  {
   "cell_type": "code",
   "execution_count": 147,
   "id": "94e6c341",
   "metadata": {},
   "outputs": [
    {
     "data": {
      "text/plain": [
       "6"
      ]
     },
     "execution_count": 147,
     "metadata": {},
     "output_type": "execute_result"
    }
   ],
   "source": [
    "def countspecialchar(string1):\n",
    "    speChar = \"!@#$<>?-/%&()[]{};:'~`*,\"\n",
    "    count = 0\n",
    "    for char in string1:\n",
    "        if char in speChar:\n",
    "            count+=1\n",
    "    else:\n",
    "        if count == 0:\n",
    "            return \"No special char\"\n",
    "    return count\n",
    "\n",
    "\n",
    "\n",
    "countspecialchar(string1 = 'guna sai, @ Hyderabad, #coder in tech {IT}')"
   ]
  },
  {
   "cell_type": "markdown",
   "id": "c0d2cea7",
   "metadata": {},
   "source": [
    "### 18. removeing all white space in a string"
   ]
  },
  {
   "cell_type": "code",
   "execution_count": 1,
   "id": "b79674b1",
   "metadata": {},
   "outputs": [
    {
     "name": "stdout",
     "output_type": "stream",
     "text": [
      "gunasaiisajobseekinginIT\n"
     ]
    }
   ],
   "source": [
    "string = \"gunasai is a job seeking in IT\"\n",
    "string2 = \"\".join(char for char in string if char != \" \")\n",
    "print(string2)\n"
   ]
  },
  {
   "cell_type": "code",
   "execution_count": 150,
   "id": "b068476c",
   "metadata": {},
   "outputs": [
    {
     "data": {
      "text/plain": [
       "'gunasaiisajobseekinginIT'"
      ]
     },
     "execution_count": 150,
     "metadata": {},
     "output_type": "execute_result"
    }
   ],
   "source": [
    "string = \"gunasai is a job seeking in IT\"\n",
    "string.replace(' ','')"
   ]
  },
  {
   "cell_type": "markdown",
   "id": "25467740",
   "metadata": {},
   "source": [
    "### 19. Buliding a Pyramid in python"
   ]
  },
  {
   "cell_type": "code",
   "execution_count": 6,
   "id": "aab029ca",
   "metadata": {},
   "outputs": [
    {
     "name": "stdout",
     "output_type": "stream",
     "text": [
      "     *\n",
      "    ***\n",
      "   *****\n",
      "  *******\n",
      " *********\n"
     ]
    }
   ],
   "source": [
    "def pyramid(n):\n",
    "    for i in range(n):\n",
    "        for j in range(i,n):\n",
    "            print(\" \",end=\"\")\n",
    "        for j in range(i+1):\n",
    "            print(\"*\",end=\"\")\n",
    "        for j in range(i):\n",
    "            print('*',end='')\n",
    "        print('')\n",
    "pyramid(5)"
   ]
  },
  {
   "cell_type": "code",
   "execution_count": 10,
   "id": "532fa499",
   "metadata": {},
   "outputs": [
    {
     "name": "stdout",
     "output_type": "stream",
     "text": [
      "     *\n",
      "    ***\n",
      "   *****\n",
      "  *******\n",
      " *********\n",
      "***********\n",
      " ********\n",
      "  ******\n",
      "   ****\n",
      "    **\n",
      "     \n"
     ]
    }
   ],
   "source": [
    "num = int(input(\"Enter the odd number\"))\n",
    "cnt = num //2\n",
    "scnt = 1\n",
    "for i in range(cnt+1):\n",
    "    print(cnt*\" \"+\"*\"*scnt)\n",
    "    cnt = cnt-1\n",
    "    scnt=scnt+2\n",
    "scnt=num-2\n",
    "cnt=1\n",
    "for i in range(num//2):\n",
    "    print(cnt*\" \"+\"*\"*scnt)\n",
    "    scnt=scnt-2\n",
    "    cnt=cnt+1"
   ]
  },
  {
   "cell_type": "markdown",
   "id": "d6c6920b",
   "metadata": {},
   "source": [
    "### 20. Randamizing the iteams of a list in python"
   ]
  },
  {
   "cell_type": "code",
   "execution_count": 38,
   "id": "88cd7b34",
   "metadata": {},
   "outputs": [
    {
     "name": "stdout",
     "output_type": "stream",
     "text": [
      "['raja', 'charan', 'gunasai']\n"
     ]
    }
   ],
   "source": [
    "from random import shuffle\n",
    "\n",
    "lst = ['gunasai','raja','charan']\n",
    "shuffle(lst)\n",
    "print(lst)"
   ]
  },
  {
   "cell_type": "markdown",
   "id": "14f3409f",
   "metadata": {},
   "source": [
    "### 21. Create a generator to produce first n prime numbers"
   ]
  },
  {
   "cell_type": "code",
   "execution_count": 40,
   "id": "55bad431",
   "metadata": {},
   "outputs": [
    {
     "name": "stdout",
     "output_type": "stream",
     "text": [
      "2 3 5 7 11 13 17 19 23 29 "
     ]
    }
   ],
   "source": [
    "def isprime(num):\n",
    "    for i in range(2,num):\n",
    "        if num%i == 0:\n",
    "            return False\n",
    "    return True \n",
    "def prime_generator(n):\n",
    "    num = 2\n",
    "    while n:\n",
    "        if isprime(num):\n",
    "            yield num\n",
    "            n-=1\n",
    "        num+=1\n",
    "\n",
    "x = int(input(\"enter the no.of prime number required\"))\n",
    "it = prime_generator(x)\n",
    "for i in it:\n",
    "    print(i,end=\" \")\n",
    "\n",
    "\n",
    "                     "
   ]
  },
  {
   "cell_type": "markdown",
   "id": "6a85a435",
   "metadata": {},
   "source": [
    "### Program to check if a given number is prime or not"
   ]
  },
  {
   "cell_type": "code",
   "execution_count": 54,
   "id": "f6841ecd",
   "metadata": {},
   "outputs": [
    {
     "data": {
      "text/plain": [
       "True"
      ]
     },
     "execution_count": 54,
     "metadata": {},
     "output_type": "execute_result"
    }
   ],
   "source": [
    "def prime_no(n):\n",
    "    flag = False\n",
    "    if n < 2:\n",
    "        return flag\n",
    "    else:\n",
    "        for i in range(2,n):\n",
    "            if n%i == 0:\n",
    "                return flag\n",
    "            else:\n",
    "                flag = True\n",
    "                return flag\n",
    "            \n",
    "num = int(input(\"Enter a number:\"))\n",
    "prime_no(num)\n"
   ]
  },
  {
   "cell_type": "markdown",
   "id": "84d5c071",
   "metadata": {},
   "source": [
    "### 22. Implementing variable length arguments in python"
   ]
  },
  {
   "cell_type": "code",
   "execution_count": 62,
   "id": "0e4e52f7",
   "metadata": {},
   "outputs": [
    {
     "name": "stdout",
     "output_type": "stream",
     "text": [
      "65.2\n",
      "75.16666666666667\n"
     ]
    }
   ],
   "source": [
    "def average(*t):\n",
    "    avg = sum(t) / len(t)\n",
    "    return avg\n",
    "\n",
    "result1 = average(30,70,80,90,56)\n",
    "result2 = average(40,78,90,56,89,98)\n",
    "\n",
    "print(result1)\n",
    "print(result2)"
   ]
  },
  {
   "cell_type": "code",
   "execution_count": 73,
   "id": "9efa02c1",
   "metadata": {},
   "outputs": [
    {
     "name": "stdout",
     "output_type": "stream",
     "text": [
      "[34, 67, 69, 29]\n",
      "[5, 78, 90, 89]\n",
      "49.75\n",
      "65.5\n"
     ]
    }
   ],
   "source": [
    "def average_with_key_word_args(**kwargs):\n",
    "\n",
    "    values = list(kwargs.values())\n",
    "    print(values)\n",
    "    avg = sum(values)/len(values)\n",
    "    return avg\n",
    "result1 = average_with_key_word_args(num1=34,num2=67,num3=69,nums4=29)\n",
    "result = average_with_key_word_args(values=5,Values2=78,values3=90,values4=89)\n",
    "print(result1)\n",
    "print(result)"
   ]
  },
  {
   "cell_type": "code",
   "execution_count": 76,
   "id": "728ffcfb",
   "metadata": {},
   "outputs": [
    {
     "name": "stdout",
     "output_type": "stream",
     "text": [
      "{'a': 5, 'b': 10, 'c': 15}\n",
      "{'a': 5}\n"
     ]
    }
   ],
   "source": [
    "class Test:\n",
    "    def __init__(self):\n",
    "        self .a=5\n",
    "    def f1(self):\n",
    "        self.b=10\n",
    "\n",
    "t1 = Test()\n",
    "t2 = Test()\n",
    "t1.f1()\n",
    "# 3rd instance variable\n",
    "t1.c=15\n",
    "print(t1.__dict__)\n",
    "print(t2.__dict__)"
   ]
  },
  {
   "cell_type": "markdown",
   "id": "62a9f1b2",
   "metadata": {},
   "source": [
    "### 24. Addition using lambda functions"
   ]
  },
  {
   "cell_type": "code",
   "execution_count": 83,
   "id": "ed0c393d",
   "metadata": {},
   "outputs": [
    {
     "name": "stdout",
     "output_type": "stream",
     "text": [
      "10\n"
     ]
    }
   ],
   "source": [
    "f = lambda a,b: a+b\n",
    "r = f(3,7)\n",
    "print(r)\n"
   ]
  },
  {
   "cell_type": "markdown",
   "id": "a5e93589",
   "metadata": {},
   "source": [
    "### 25. finding factorical using lambda function"
   ]
  },
  {
   "cell_type": "code",
   "execution_count": 91,
   "id": "9d660509",
   "metadata": {},
   "outputs": [
    {
     "data": {
      "text/plain": [
       "120"
      ]
     },
     "execution_count": 91,
     "metadata": {},
     "output_type": "execute_result"
    }
   ],
   "source": [
    "f = lambda n:1 if n==0 else n*f(n-1)\n",
    "f(5)"
   ]
  },
  {
   "cell_type": "code",
   "execution_count": 89,
   "id": "c804995f",
   "metadata": {},
   "outputs": [
    {
     "name": "stdout",
     "output_type": "stream",
     "text": [
      "The factorial of 5 is,120\n"
     ]
    }
   ],
   "source": [
    "num = int(input(\"enter a number:\"))\n",
    "factorial = 1\n",
    "if num < 0:\n",
    "    print(f\"sorry, factorial does not exit for negative number:{num}\")\n",
    "elif num == 0:\n",
    "    print(\" the factorial of o is 1\")\n",
    "else:\n",
    "    for i in range(1,num+1):\n",
    "        factorial = factorial*i\n",
    "\n",
    "    print(f\"The factorial of {num} is,{factorial}\")"
   ]
  },
  {
   "cell_type": "markdown",
   "id": "d5090f0d",
   "metadata": {},
   "source": [
    "### 26. List compression (to create a list in single line)"
   ]
  },
  {
   "cell_type": "code",
   "execution_count": 100,
   "id": "03ff2dd5",
   "metadata": {},
   "outputs": [
    {
     "name": "stdout",
     "output_type": "stream",
     "text": [
      "[2, 4, 6, 8, 10, 12, 14, 16, 18]\n",
      "[22, 18, 100, 6, 4]\n"
     ]
    }
   ],
   "source": [
    "l1 = [2*v for v in range(1,10)]\n",
    "print(l1)\n",
    "\n",
    "lst = [22,17,18,19,89,100,67,6,4]\n",
    "\n",
    "l2 = [i for i in lst if i%2 == 0 ]\n",
    "print(l2)\n"
   ]
  },
  {
   "cell_type": "markdown",
   "id": "495153fe",
   "metadata": {},
   "source": [
    "### 27. what is use of split and join fuction of str"
   ]
  },
  {
   "cell_type": "code",
   "execution_count": 108,
   "id": "bcf33519",
   "metadata": {},
   "outputs": [
    {
     "name": "stdout",
     "output_type": "stream",
     "text": [
      "['what', 'is', 'rigth', 'in', 'your', 'mind', 'is', 'right', 'in', 'your', 'world']\n",
      "['world', 'your', 'in', 'right', 'is', 'mind', 'your', 'in', 'rigth', 'is', 'what']\n",
      "world your in right is mind your in rigth is what\n"
     ]
    }
   ],
   "source": [
    "s = 'what is rigth in your mind is right in your world'\n",
    "s1=s.split(\" \")\n",
    "print(s1)\n",
    "s2 = s1[::-1]\n",
    "print(s2)\n",
    "print(\" \".join(s2))\n"
   ]
  },
  {
   "cell_type": "markdown",
   "id": "83e0b177",
   "metadata": {},
   "source": [
    "### 28. global and local variable"
   ]
  },
  {
   "cell_type": "code",
   "execution_count": null,
   "id": "d4868635",
   "metadata": {},
   "outputs": [
    {
     "name": "stdout",
     "output_type": "stream",
     "text": [
      "X=15, y=10\n",
      "15\n"
     ]
    }
   ],
   "source": [
    "x = 5 # global variable\n",
    "def f1():\n",
    "    global x\n",
    "    x = 15 #global variable update\n",
    "    y = 10 #local variable \n",
    "    print(\"X=%d, y=%d\"%(x,y))\n",
    "f1()\n",
    "print(x)"
   ]
  },
  {
   "cell_type": "markdown",
   "id": "d461b403",
   "metadata": {},
   "source": [
    "### 29. Globals Function"
   ]
  },
  {
   "cell_type": "code",
   "execution_count": 121,
   "id": "81b6b8e4",
   "metadata": {},
   "outputs": [
    {
     "name": "stdout",
     "output_type": "stream",
     "text": [
      "5\n",
      "local=10,global=5\n"
     ]
    }
   ],
   "source": [
    "x = 5\n",
    "def fun():\n",
    "    x =10 # local variable\n",
    "    d =globals()\n",
    "    print(d['x'])\n",
    "    print(\"local=%d,global=%d\"%(x,d['x']))\n",
    "\n",
    "fun()"
   ]
  },
  {
   "cell_type": "markdown",
   "id": "71b1244c",
   "metadata": {},
   "source": [
    "### 30. Type conversion basics"
   ]
  },
  {
   "cell_type": "code",
   "execution_count": 137,
   "id": "86489974",
   "metadata": {},
   "outputs": [
    {
     "name": "stdout",
     "output_type": "stream",
     "text": [
      "32\n",
      "123.0\n",
      "(3+4j)\n",
      "12\n",
      "True\n",
      "0b11001\n",
      "0o31\n",
      "0x59\n",
      "65\n",
      "d\n"
     ]
    }
   ],
   "source": [
    "x = int(\"32\")\n",
    "y = float(123)\n",
    "c = complex('3+4j')\n",
    "d = str(12)\n",
    "b = bool('True')\n",
    "e = bin(25)\n",
    "f = oct(25)\n",
    "h = hex(89)\n",
    "g = ord('A')\n",
    "i = chr(100)\n",
    "print(x,y,c,d,b,e,f,h,g,i,sep=\"\\n\")"
   ]
  },
  {
   "cell_type": "markdown",
   "id": "c80b16da",
   "metadata": {},
   "source": [
    "### 31. Type conversion"
   ]
  },
  {
   "cell_type": "code",
   "execution_count": 141,
   "id": "1077ab4a",
   "metadata": {},
   "outputs": [
    {
     "name": "stdout",
     "output_type": "stream",
     "text": [
      "<class 'int'>\n",
      "<class 'str'>\n",
      "130\n",
      "5125\n"
     ]
    }
   ],
   "source": [
    "x = 5\n",
    "print(type(x))\n",
    "s1 = '125'\n",
    "print(type(s1))\n",
    "print(x+int(s1))\n",
    "print(str(x)+s1)\n"
   ]
  },
  {
   "cell_type": "markdown",
   "id": "76660730",
   "metadata": {},
   "source": [
    "### 32. what is the python decorator"
   ]
  },
  {
   "cell_type": "code",
   "execution_count": 1,
   "id": "31e64e5c",
   "metadata": {},
   "outputs": [
    {
     "name": "stdout",
     "output_type": "stream",
     "text": [
      "Before hello function\n",
      "Hello !\n",
      "Thank for using the function\n",
      "Before hello function\n",
      "70\n",
      "Thank for using the function\n"
     ]
    }
   ],
   "source": [
    "def welcome(fx):\n",
    "    def mfx(*t,**d):\n",
    "        print(\"Before hello function\")\n",
    "        fx(*t,**d)\n",
    "        print(\"Thank for using the function\")\n",
    "    return mfx\n",
    "\n",
    "@welcome\n",
    "def hello():\n",
    "    print(\"Hello !\")\n",
    "\n",
    "@welcome\n",
    "def add(a,b):\n",
    "    print(a+b)\n",
    "\n",
    "hello()\n",
    "add(40,30)"
   ]
  },
  {
   "cell_type": "code",
   "execution_count": 2,
   "id": "806d31be",
   "metadata": {},
   "outputs": [
    {
     "data": {
      "text/plain": [
       "1600"
      ]
     },
     "execution_count": 2,
     "metadata": {},
     "output_type": "execute_result"
    }
   ],
   "source": [
    "class Calculator:\n",
    "    def __init__(self,func):\n",
    "        self.function = func\n",
    "    def __call__(self, *args, **kwds):\n",
    "        result=self.function(*args,**kwds)\n",
    "        return result**2\n",
    "@Calculator\n",
    "def add(a,b):\n",
    "    return a+b\n",
    "\n",
    "add(10,30)"
   ]
  },
  {
   "cell_type": "code",
   "execution_count": 5,
   "id": "83e255d5",
   "metadata": {},
   "outputs": [
    {
     "name": "stdout",
     "output_type": "stream",
     "text": [
      "PASS\n",
      "DISTINCTION\n",
      "PASS\n",
      "DISTINCTION\n",
      "PASS\n",
      "PASS\n",
      "DISTINCTION\n",
      "PASS\n",
      "PASS\n",
      "FAIL\n"
     ]
    }
   ],
   "source": [
    "def decor_result(result_function):\n",
    "    def distinction(marks):\n",
    "        result = []\n",
    "        for m in marks:\n",
    "            if m >= 75:\n",
    "                print(\"DISTINCTION\")\n",
    "            result.append(result_function([m]))\n",
    "        return result\n",
    "    return distinction\n",
    "\n",
    "@decor_result\n",
    "def result(marks):\n",
    "    for m in marks:\n",
    "        if m >= 33:\n",
    "            pass\n",
    "        else:\n",
    "            print('FAIL')\n",
    "            return 'FAIL'\n",
    "        \n",
    "    else:\n",
    "        print(\"PASS\")\n",
    "        return 'PASS'\n",
    "    \n",
    "results = result([45,78,90,56,89,34,32])"
   ]
  },
  {
   "cell_type": "markdown",
   "id": "02261fe3",
   "metadata": {},
   "source": [
    "### 33. what are iterators in python"
   ]
  },
  {
   "cell_type": "code",
   "execution_count": 10,
   "id": "04990dc4",
   "metadata": {},
   "outputs": [
    {
     "name": "stdout",
     "output_type": "stream",
     "text": [
      "23\n",
      "65\n",
      "22\n",
      "77\n",
      "34\n",
      "98\n",
      "43\n"
     ]
    }
   ],
   "source": [
    "l1 = [23,65,22,77,34,98,43]\n",
    "it = iter(l1)\n",
    "while True:\n",
    "    try:\n",
    "        print(next(it))\n",
    "    except StopIteration:\n",
    "        break\n",
    "    "
   ]
  },
  {
   "cell_type": "markdown",
   "id": "1172c240",
   "metadata": {},
   "source": [
    "### 33. what are generators in python? create a generator for first n natural even numbers "
   ]
  },
  {
   "cell_type": "code",
   "execution_count": 2,
   "id": "a5c37aa8",
   "metadata": {},
   "outputs": [
    {
     "name": "stdout",
     "output_type": "stream",
     "text": [
      "[2, 4, 6, 8, 10, 12, 14, 16, 18, 20]\n"
     ]
    }
   ],
   "source": [
    "def evenNum(n):\n",
    "    i = 1\n",
    "    while n:\n",
    "        yield 2*i\n",
    "        i+=1\n",
    "        n-=1\n",
    "it=evenNum(10)\n",
    "even_num = []\n",
    "while True:\n",
    "    try:\n",
    "        even_num.append(next(it))\n",
    "    except StopIteration:\n",
    "        break\n",
    "print(even_num)\n",
    "        "
   ]
  },
  {
   "cell_type": "markdown",
   "id": "8aa57e92",
   "metadata": {},
   "source": [
    "## 34. is function overloading allowed in python"
   ]
  },
  {
   "cell_type": "markdown",
   "id": "6445bcac",
   "metadata": {},
   "source": [
    "### 1. using default argument"
   ]
  },
  {
   "cell_type": "code",
   "execution_count": 4,
   "id": "1e447840",
   "metadata": {},
   "outputs": [
    {
     "name": "stdout",
     "output_type": "stream",
     "text": [
      "hello, gunasai !\n",
      "hi, gokul !\n"
     ]
    }
   ],
   "source": [
    "def greet(name,greeting='hello'):\n",
    "    return f\"{greeting}, {name} !\"\n",
    "\n",
    "print(greet('gunasai'))\n",
    "print(greet('gokul','hi'))"
   ]
  },
  {
   "cell_type": "markdown",
   "id": "7082a527",
   "metadata": {},
   "source": [
    "### 2. using variable-length argument"
   ]
  },
  {
   "cell_type": "code",
   "execution_count": 11,
   "id": "2a3da8bb",
   "metadata": {},
   "outputs": [
    {
     "name": "stdout",
     "output_type": "stream",
     "text": [
      "11\n",
      "7\n"
     ]
    }
   ],
   "source": [
    "def add(*t):\n",
    "    return sum(t)\n",
    "print(add(2,4,5))\n",
    "print(add(2,4,1))"
   ]
  },
  {
   "cell_type": "markdown",
   "id": "b88c763c",
   "metadata": {},
   "source": [
    "### 3. using functools.singledispatch"
   ]
  },
  {
   "cell_type": "code",
   "execution_count": 12,
   "id": "be3e3841",
   "metadata": {},
   "outputs": [
    {
     "name": "stdout",
     "output_type": "stream",
     "text": [
      "processing an integer: 10\n",
      "Processing a string: hello\n"
     ]
    }
   ],
   "source": [
    "from functools import singledispatch\n",
    "@singledispatch\n",
    "def procces(value):\n",
    "    raise NotImplementedError(\"Unsupported type\")\n",
    "@procces.register(int)\n",
    "def _(value):\n",
    "    return f\"processing an integer: {value}\"\n",
    "@procces.register(str)\n",
    "def _(value):\n",
    "    return f'Processing a string: {value}'\n",
    "print(procces(10))\n",
    "print(procces('hello'))"
   ]
  },
  {
   "cell_type": "markdown",
   "id": "5bbc3bd2",
   "metadata": {},
   "source": [
    "### 4. using class methods"
   ]
  },
  {
   "cell_type": "code",
   "execution_count": 16,
   "id": "c6ae60b2",
   "metadata": {},
   "outputs": [
    {
     "name": "stdout",
     "output_type": "stream",
     "text": [
      "6\n",
      "120\n",
      "8\n"
     ]
    }
   ],
   "source": [
    "class math:\n",
    "    @staticmethod\n",
    "    def multiply(a,b):\n",
    "        return a*b\n",
    "    @staticmethod\n",
    "    def multiply(a,b,c):\n",
    "        return a*b*c\n",
    "    \n",
    "#class math:\n",
    "    @staticmethod\n",
    "    def multiply(*t):\n",
    "        result = 1\n",
    "        for num in t:\n",
    "            result*=num\n",
    "        return result\n",
    "print(math.multiply(2,3))\n",
    "print(math.multiply(2,3,4,5))\n",
    "print(math.multiply(2,4,1))"
   ]
  },
  {
   "cell_type": "markdown",
   "id": "9ef390ec",
   "metadata": {},
   "source": [
    "### 35. what are positional arguments in python?\n",
    "\n",
    "there two types arguments in python\n",
    "1. positional arguments:\n",
    "    > These are arguments passed to a function in the correct positional order.\n",
    "    > The function assigns each argument to the corresponding parameter based on their position in the call.\n",
    "2. keyword arguments:\n",
    "    > These arguments are passed to a function by explicitly naming each parameter and assigning it a value.\n",
    "    > Keyword arguments can appear in any order, because Python matches them by parameter name rather than position.\n",
    "* Mixing Both:\n",
    "    > Positional arguments must appear before keyword arguments in a function call.\n",
    "\n",
    "    greet(10, b=30)    \n",
    "    greet(b=20, 30)  # SyntaxError: positional argument follows keyword argument"
   ]
  },
  {
   "cell_type": "code",
   "execution_count": 7,
   "id": "d6c32f62",
   "metadata": {},
   "outputs": [
    {
     "name": "stdout",
     "output_type": "stream",
     "text": [
      "a:10\n",
      "b:20\n",
      "Total:30\n",
      "a:20\n",
      "b:40\n",
      "Total:60\n",
      "a:10\n",
      "b:30\n",
      "Total:40\n"
     ]
    }
   ],
   "source": [
    "def add(a,b):\n",
    "    print(f\"a:{a}\\nb:{b}\\nTotal:{a+b}\")\n",
    "add(10,20)#positional arguments\n",
    "add(a=20,b=40)# keyword arguments\n",
    "add(10,b=30)"
   ]
  },
  {
   "cell_type": "markdown",
   "id": "e79ae109",
   "metadata": {},
   "source": [
    "### 36. difference between sorted and sort"
   ]
  },
  {
   "cell_type": "code",
   "execution_count": 22,
   "id": "ecbb0f2c",
   "metadata": {},
   "outputs": [
    {
     "name": "stdout",
     "output_type": "stream",
     "text": [
      "[20, 30, 89, 90, 100, 150, 250]\n",
      "before sorted function:[30, 2, 1, 0, 78, 90, 100, 23, 56, 32]\n",
      "after sorted function:[0, 1, 2, 23, 30, 32, 56, 78, 90, 100]\n"
     ]
    }
   ],
   "source": [
    "lst = [150,250,100, 20,30,89,90]\n",
    "lst.sort()\n",
    "print(lst)\n",
    "lst1 = [30,2,1,0,78,90,100,23,56,32]\n",
    "sorted_lst = sorted(lst1) # sorted function will return a new list of elements\n",
    "print(f\"before sorted function:{lst1}\")\n",
    "print(f\"after sorted function:{sorted_lst}\")\n"
   ]
  },
  {
   "cell_type": "markdown",
   "id": "c12c681a",
   "metadata": {},
   "source": [
    "### 37. how to create static member variables in class?"
   ]
  },
  {
   "cell_type": "code",
   "execution_count": null,
   "id": "d055e1e4",
   "metadata": {},
   "outputs": [],
   "source": [
    "class myclass:\n",
    "    a =5 # static variable\n",
    "    def __init__(self):\n",
    "        self.x =10 # instance variable - can be used anywhere in class using self\n",
    "        y = 4 # local variable \n",
    "        myclass.b = 34 # static variable\n",
    "    def f1(self):\n",
    "        myclass.c = 65 # static variable\n",
    "    @staticmethod\n",
    "    def f2(self):\n",
    "        myclass.d = 66 # static variable\n",
    "    @staticmethod\n",
    "    def f3(cls):\n",
    "        cls.e = 15\n",
    "        myclass.f = 53 # static variable\n",
    "\n",
    "myclass.g = 11 # static variable"
   ]
  },
  {
   "cell_type": "markdown",
   "id": "8936a575",
   "metadata": {},
   "source": [
    "### 38. how to use else with loop in python?\n",
    "\n",
    "    1. else can be used with if and while loops in python.\n",
    "    2. After the break statement in the loop the else statement is not executed.\n",
    "    3. else statement is only executed when the condition of the loop is false."
   ]
  },
  {
   "cell_type": "code",
   "execution_count": 30,
   "id": "94489b65",
   "metadata": {},
   "outputs": [
    {
     "name": "stdout",
     "output_type": "stream",
     "text": [
      "1 2 3 4 5 "
     ]
    }
   ],
   "source": [
    "i = 1\n",
    "while i <= 10:\n",
    "    print(i,end= ' ')\n",
    "    if i == 5:\n",
    "        break\n",
    "    i+=1\n",
    "else:\n",
    "    print(\"you are in else\")"
   ]
  },
  {
   "cell_type": "code",
   "execution_count": 34,
   "id": "30acdd50",
   "metadata": {},
   "outputs": [
    {
     "name": "stdout",
     "output_type": "stream",
     "text": [
      "1 2 3 4 5 6 7 8 9 \n",
      " you are in else\n"
     ]
    }
   ],
   "source": [
    "i =1\n",
    "while i < 10:\n",
    "    print(i,end = ' ')\n",
    "    if i == 12:\n",
    "        break\n",
    "    i+=1\n",
    "\n",
    "else:\n",
    "    print(\"\\n you are in else\")"
   ]
  },
  {
   "cell_type": "code",
   "execution_count": 35,
   "id": "e2d9fe8f",
   "metadata": {},
   "outputs": [
    {
     "name": "stdout",
     "output_type": "stream",
     "text": [
      "0 1 2 3 4 5 6 7 8 9 you are in else\n"
     ]
    }
   ],
   "source": [
    "for i in range(10):\n",
    "    print(i,end=' ')\n",
    "    if i == 12:\n",
    "        break\n",
    "else:\n",
    "    print(\"you are in else\")"
   ]
  },
  {
   "cell_type": "markdown",
   "id": "f7be7f9b",
   "metadata": {},
   "source": [
    "### 39. what is name mingling in python"
   ]
  },
  {
   "cell_type": "code",
   "execution_count": 37,
   "id": "4e5b4854",
   "metadata": {},
   "outputs": [
    {
     "name": "stdout",
     "output_type": "stream",
     "text": [
      "19\n",
      "20\n"
     ]
    }
   ],
   "source": [
    "class world:\n",
    "    x = 19\n",
    "    __india = 20\n",
    "print(world.x)\n",
    "print(world._world__india)\n"
   ]
  },
  {
   "cell_type": "markdown",
   "id": "62015f44",
   "metadata": {},
   "source": [
    "### 40. what is difference between class object and instance object?\n",
    "    class object is called only once, instance object can be called any no of times\n",
    "    class object declared with class.object\n",
    "\n",
    "    instance object is declared with t1= class(positional arguments) and where the first argument is instance object(t1) implicitly. also init method is called implicitly after declared instance object"
   ]
  },
  {
   "cell_type": "code",
   "execution_count": 40,
   "id": "e3fa1998",
   "metadata": {},
   "outputs": [
    {
     "name": "stdout",
     "output_type": "stream",
     "text": [
      "20\n",
      "4 5\n",
      "4\n",
      "5\n"
     ]
    }
   ],
   "source": [
    "class test:\n",
    "    x = 20\n",
    "    def __init__(self,a,b):\n",
    "        self.a=a\n",
    "        self.b=b\n",
    "\n",
    "    def show(self):\n",
    "        print(self.a,self.b)\n",
    "\n",
    "\n",
    "print(test.x)\n",
    "t1 = test(4,5)\n",
    "t1.show()\n",
    "\n",
    "print(t1.a)\n",
    "print(t1.b)\n"
   ]
  },
  {
   "cell_type": "markdown",
   "id": "8f1a9147",
   "metadata": {},
   "source": [
    "### 41. what is init method in python?   \n",
    "    init method is just like constructor in c++ and java. but incase of c++ and java if we don't create a constructor the program create one implicitly. incase of python we have to create init method explicitly"
   ]
  },
  {
   "cell_type": "code",
   "execution_count": 45,
   "id": "1b78c0d1",
   "metadata": {},
   "outputs": [
    {
     "name": "stdout",
     "output_type": "stream",
     "text": [
      "10 20\n"
     ]
    }
   ],
   "source": [
    "class test():\n",
    "    def __init__(self):\n",
    "        self.a = 10\n",
    "        self.b = 20\n",
    "t1 = test()\n",
    "print(t1.a,t1.b)"
   ]
  },
  {
   "cell_type": "markdown",
   "id": "a9aa6095",
   "metadata": {},
   "source": [
    "### 42. what are default parameters in functions?\n",
    "    \n",
    "    the parameters that are declared and assigned a value while creating a function are called default parameters.\n",
    "    it is not allowed to have non-default parameters after default paramenters."
   ]
  },
  {
   "cell_type": "code",
   "execution_count": null,
   "id": "cf732615",
   "metadata": {},
   "outputs": [
    {
     "name": "stdout",
     "output_type": "stream",
     "text": [
      "40\n",
      "60\n"
     ]
    }
   ],
   "source": [
    "def add(a,b,c=10): # c is default paramenter\n",
    "    return a+b+c\n",
    "print(add(10,20))\n",
    "print(add(20,20,20))"
   ]
  },
  {
   "cell_type": "markdown",
   "id": "d5e26bc9",
   "metadata": {},
   "source": [
    "### 43. Extract int type values from a list of heterogeneous element"
   ]
  },
  {
   "cell_type": "code",
   "execution_count": 56,
   "id": "2fff612c",
   "metadata": {},
   "outputs": [
    {
     "name": "stdout",
     "output_type": "stream",
     "text": [
      "['7890', 67.99, '78', 97, (3+7j), 'g', True, 78, 89.78, 43]\n",
      "[97, 78, 43]\n"
     ]
    }
   ],
   "source": [
    "l1 = ['7890',67.99,'78',97,3+7j,'g',True,78,89.78,43]\n",
    "print(l1)\n",
    "num_list = []\n",
    "for n in range(len(l1)):\n",
    "    if type(l1[n]) == int:\n",
    "        num_list.append(l1[n])\n",
    "print(num_list)"
   ]
  },
  {
   "cell_type": "markdown",
   "id": "aade6379",
   "metadata": {},
   "source": [
    "### 44. Does python support multiple inheritance? ###\n",
    "\n",
    "when a class inherits attributes from more than one class it is called multiple inheritance\n",
    "\n",
    "python supports multiple inheritance"
   ]
  },
  {
   "cell_type": "code",
   "execution_count": 2,
   "id": "04eeb21c",
   "metadata": {},
   "outputs": [],
   "source": [
    "class A1:\n",
    "    pass\n",
    "class A2:\n",
    "    pass\n",
    "class A3(A1,A2):\n",
    "    pass"
   ]
  },
  {
   "cell_type": "markdown",
   "id": "25aeecf3",
   "metadata": {},
   "source": [
    "### 45. what is monkey patching? ###\n",
    "\n",
    "monkey patching is replace a function object with a new function object, so that the function is now pointing to new function object.\n",
    "mostly used when you want you replace a function for testing purpose"
   ]
  },
  {
   "cell_type": "code",
   "execution_count": 9,
   "id": "39c24a6d",
   "metadata": {},
   "outputs": [
    {
     "name": "stdout",
     "output_type": "stream",
     "text": [
      "Befor monkey patching\n",
      "\n",
      "send code to fetch data from database\n",
      "send code to fetch data from database\n",
      "\n",
      "After Monkey patching:\n",
      "\n",
      "some to code fetch data from test data\n",
      "some to code fetch data from test data\n"
     ]
    }
   ],
   "source": [
    "class test:\n",
    "    def __init__(self,x):\n",
    "        self.a=x\n",
    "\n",
    "    def get_data(self):\n",
    "        print(\"send code to fetch data from database\")\n",
    "    def f1(self):\n",
    "        self.get_data()\n",
    "    def f2(self):\n",
    "        self.get_data()\n",
    "\n",
    "t1=test(4)\n",
    "print(\"Befor monkey patching\\n\")\n",
    "t1.f1()\n",
    "t1.f2()\n",
    "def get_new_data(self):\n",
    "    print(\"some to code fetch data from test data\")\n",
    "\n",
    "test.get_data = get_new_data\n",
    "print(\"\\nAfter Monkey patching:\\n\")\n",
    "t1.f1()\n",
    "t1.f2()\n"
   ]
  },
  {
   "cell_type": "markdown",
   "id": "18a51361",
   "metadata": {},
   "source": [
    "### 46. Accept a number user check whether it is prime or not"
   ]
  },
  {
   "cell_type": "code",
   "execution_count": 21,
   "id": "bc7ceff6",
   "metadata": {},
   "outputs": [
    {
     "name": "stdout",
     "output_type": "stream",
     "text": [
      "number is not prime\n"
     ]
    }
   ],
   "source": [
    "num = int(input(\"Enter the number:\"))\n",
    "for i in range(2,num):\n",
    "    if num%i == 0:\n",
    "        print(\"number is not prime\")\n",
    "        break\n",
    "else:\n",
    "    print('number is prime')"
   ]
  },
  {
   "cell_type": "markdown",
   "id": "46d2d9f6",
   "metadata": {},
   "source": [
    "### 47. finding the number is even or add"
   ]
  },
  {
   "cell_type": "code",
   "execution_count": 27,
   "id": "4d5f5920",
   "metadata": {},
   "outputs": [
    {
     "name": "stdout",
     "output_type": "stream",
     "text": [
      "7 is odd number\n"
     ]
    }
   ],
   "source": [
    "num = int(input(\"Enter the number:\"))\n",
    "if num%2 == 0:\n",
    "    print(f'{num} is even number')\n",
    "else:\n",
    "    print(f'{num} is odd number')"
   ]
  },
  {
   "cell_type": "markdown",
   "id": "512f1a6f",
   "metadata": {},
   "source": [
    "### 48. finding the whethere number is negative or positive number"
   ]
  },
  {
   "cell_type": "code",
   "execution_count": 30,
   "id": "e815475d",
   "metadata": {},
   "outputs": [
    {
     "name": "stdout",
     "output_type": "stream",
     "text": [
      "-90 is negative number\n"
     ]
    }
   ],
   "source": [
    "num = int(input(\"Enter the number:\"))\n",
    "if num < 0:\n",
    "    print(\"%d is negative number\" %num)\n",
    "elif num > 0:\n",
    "    print(\"%d is positive number\" %num)\n",
    "else:\n",
    "    print('%d zero' %num)"
   ]
  },
  {
   "cell_type": "markdown",
   "id": "ef10b858",
   "metadata": {},
   "source": [
    "### 49. write a program to find the sum of two numbers."
   ]
  },
  {
   "cell_type": "code",
   "execution_count": 36,
   "id": "feb6f1b2",
   "metadata": {},
   "outputs": [
    {
     "name": "stdout",
     "output_type": "stream",
     "text": [
      "Num1: 10 num2: 20\n",
      "total: 30\n"
     ]
    }
   ],
   "source": [
    "num1 = int(input(\"Enter the number1:\"))\n",
    "num2 = int(input(\"Enter the number2:\"))\n",
    "print(f\"Num1: {num1} num2: {num2}\\ntotal: {num1+num2}\")"
   ]
  },
  {
   "cell_type": "markdown",
   "id": "2932817b",
   "metadata": {},
   "source": [
    "### 50. write a program to find the GCD of two number"
   ]
  },
  {
   "cell_type": "code",
   "execution_count": 5,
   "id": "c8e674d6",
   "metadata": {},
   "outputs": [
    {
     "data": {
      "text/plain": [
       "10"
      ]
     },
     "execution_count": 5,
     "metadata": {},
     "output_type": "execute_result"
    }
   ],
   "source": [
    "num1 = int(input(\"Enter the 1st number:\"))\n",
    "num2 = int(input(\"enter the 2st number:\"))\n",
    "\n",
    "def gcd(a,b):\n",
    "    if a == 0 or a==b:\n",
    "        return b\n",
    "    elif b==0:\n",
    "        return a\n",
    "    elif a > b:\n",
    "        return gcd(a-b,b)\n",
    "    return gcd(b,b-a)\n",
    "gcd(num1,num2)"
   ]
  },
  {
   "cell_type": "markdown",
   "id": "dfd2e2e5",
   "metadata": {},
   "source": [
    "### 51 . write a program to print the following pattern ###\n",
    "\n",
    "        * \n",
    "        * * \n",
    "        * * * \n",
    "        * * * * \n",
    "        * * * * *"
   ]
  },
  {
   "cell_type": "code",
   "execution_count": 6,
   "id": "11c85352",
   "metadata": {},
   "outputs": [
    {
     "name": "stdout",
     "output_type": "stream",
     "text": [
      "* \n",
      "* * \n",
      "* * * \n",
      "* * * * \n",
      "* * * * * \n"
     ]
    }
   ],
   "source": [
    "n = 5\n",
    "for i in range(1,n+1):\n",
    "    print(\"* \"*i)"
   ]
  },
  {
   "cell_type": "markdown",
   "id": "dd79a8a4",
   "metadata": {},
   "source": [
    "### 52. write a program to print the following pattern ###\n",
    "\n",
    "            1\n",
    "            1 2\n",
    "            1 2 3\n",
    "            1 2 3 4\n",
    "            1 3 3 4 5"
   ]
  },
  {
   "cell_type": "code",
   "execution_count": 21,
   "id": "2d814208",
   "metadata": {},
   "outputs": [
    {
     "name": "stdout",
     "output_type": "stream",
     "text": [
      "1 \n",
      "1 2 \n",
      "1 2 3 \n",
      "1 2 3 4 \n",
      "1 2 3 4 5 \n"
     ]
    }
   ],
   "source": [
    "n = 5\n",
    "for i in range(1,n+1):\n",
    "    for j in range(1,i+1):\n",
    "        print(j,end=' ')\n",
    "    print('')\n"
   ]
  },
  {
   "cell_type": "markdown",
   "id": "64f70669",
   "metadata": {},
   "source": [
    "### 53. write a program to print the following pattern ###\n",
    "\n",
    "        1\n",
    "        2  3\n",
    "        4  5  6\n",
    "        7  8  9  10\n",
    "        11 12 13 14 15"
   ]
  },
  {
   "cell_type": "code",
   "execution_count": 22,
   "id": "ec0cff6e",
   "metadata": {},
   "outputs": [
    {
     "name": "stdout",
     "output_type": "stream",
     "text": [
      "1 \n",
      "2 3 \n",
      "4 5 6 \n",
      "7 8 9 10 \n",
      "11 12 13 14 15 \n"
     ]
    }
   ],
   "source": [
    "n = 5\n",
    "p =1\n",
    "for i in range(1,n+1):\n",
    "    for j in range(1,i+1):\n",
    "        print(p,end = ' ')\n",
    "        p+=1\n",
    "    print()"
   ]
  },
  {
   "cell_type": "markdown",
   "id": "b5c06ccf",
   "metadata": {},
   "source": [
    "### 54. Write a program to print the following pattern ###\n",
    "\n",
    "        A\n",
    "        B B\n",
    "        C C C\n",
    "        D D D D\n",
    "        E E E E E"
   ]
  },
  {
   "cell_type": "code",
   "execution_count": 37,
   "id": "5bf84130",
   "metadata": {},
   "outputs": [
    {
     "name": "stdout",
     "output_type": "stream",
     "text": [
      "A B C D E F G H I J K L M N O P Q R S T U V W X Y Z "
     ]
    }
   ],
   "source": [
    "p = 65\n",
    "for i in range(1,27):\n",
    "    print(chr(p),end = \" \")\n",
    "    p+=1"
   ]
  },
  {
   "cell_type": "code",
   "execution_count": 28,
   "id": "e7236bbc",
   "metadata": {},
   "outputs": [
    {
     "name": "stdout",
     "output_type": "stream",
     "text": [
      "A \n",
      "B B \n",
      "C C C \n",
      "D D D D \n",
      "E E E E E \n"
     ]
    }
   ],
   "source": [
    "row = 5\n",
    "p = 65\n",
    "for i in range(1,row+1):\n",
    "    for j in range(1,i+1):\n",
    "        print(chr(p),end=' ')\n",
    "    p+=1\n",
    "    print()"
   ]
  },
  {
   "cell_type": "code",
   "execution_count": 41,
   "id": "877566ec",
   "metadata": {},
   "outputs": [
    {
     "name": "stdout",
     "output_type": "stream",
     "text": [
      "A A A A A \n",
      "B B B B \n",
      "C C C \n",
      "D D \n",
      "E \n"
     ]
    }
   ],
   "source": [
    "def apha(n):\n",
    "    p = 65\n",
    "    for i in range(n):\n",
    "        for j in range(i,n):\n",
    "            ch = chr(p)\n",
    "            print(ch,end = ' ')\n",
    "        p+=1\n",
    "        print()\n",
    "apha(5)"
   ]
  },
  {
   "cell_type": "markdown",
   "id": "7bfdd2c7",
   "metadata": {},
   "source": [
    "### 55. write a program to print the following pattern ###\n",
    "\n",
    "        A\n",
    "        B C\n",
    "        D E F\n",
    "        G H I J\n",
    "        K L M N O"
   ]
  },
  {
   "cell_type": "code",
   "execution_count": 4,
   "id": "4137250b",
   "metadata": {},
   "outputs": [
    {
     "name": "stdout",
     "output_type": "stream",
     "text": [
      "A \n",
      "B C \n",
      "D E F \n",
      "G H I J \n",
      "K L M N O \n"
     ]
    }
   ],
   "source": [
    "n = 5\n",
    "p = 65\n",
    "for i in range(1,n+1):\n",
    "    for j in range(1,i+1):\n",
    "        print(chr(p),end=' ')\n",
    "        p+=1\n",
    "    print(\"\")"
   ]
  },
  {
   "cell_type": "code",
   "execution_count": 9,
   "id": "713916b7",
   "metadata": {},
   "outputs": [
    {
     "name": "stdout",
     "output_type": "stream",
     "text": [
      "  A B C D E \n",
      "    F G H I \n",
      "      J K L \n",
      "        M N \n",
      "          O \n"
     ]
    }
   ],
   "source": [
    "n = 5\n",
    "p = 65\n",
    "for i in range(n):\n",
    "    for j in range(i+1):\n",
    "        print(\" \", end= ' ')\n",
    "    for j in range(i,n):\n",
    "        print(chr(p),end = ' ')\n",
    "        p+=1\n",
    "    print()"
   ]
  },
  {
   "cell_type": "markdown",
   "id": "35f73cb4",
   "metadata": {},
   "source": [
    "### 56. write a program to print the following pattern."
   ]
  },
  {
   "cell_type": "code",
   "execution_count": 13,
   "id": "1105f4d0",
   "metadata": {},
   "outputs": [
    {
     "name": "stdout",
     "output_type": "stream",
     "text": [
      "     A \n",
      "    A B \n",
      "   A B C \n",
      "  A B C D \n",
      " A B C D E \n"
     ]
    }
   ],
   "source": [
    "n = 5\n",
    "p = 65\n",
    "for i in range(n):\n",
    "    for j in range(i,n):\n",
    "        print(\" \",end=\"\")\n",
    "    for j in range(i+1):\n",
    "        print(chr(p),end=\" \")\n",
    "        p+=1\n",
    "    p=65\n",
    "    print()\n"
   ]
  },
  {
   "cell_type": "markdown",
   "id": "e34bdb54",
   "metadata": {},
   "source": [
    "### 58. write a program to create pyramid with 5 rows."
   ]
  },
  {
   "cell_type": "code",
   "execution_count": 14,
   "id": "5213429d",
   "metadata": {},
   "outputs": [
    {
     "name": "stdout",
     "output_type": "stream",
     "text": [
      "          * \n",
      "        * * * \n",
      "      * * * * * \n",
      "    * * * * * * * \n",
      "  * * * * * * * * * \n"
     ]
    }
   ],
   "source": [
    "n = 5\n",
    "for i in range(n):\n",
    "    for j in range(i,n):\n",
    "        print(\" \",end=\" \")\n",
    "    for j in range(i+1):\n",
    "        print(\"*\",end= \" \")\n",
    "    for j in range(i):\n",
    "        print(\"*\",end=' ')\n",
    "    print()"
   ]
  },
  {
   "cell_type": "code",
   "execution_count": 15,
   "id": "867852ce",
   "metadata": {},
   "outputs": [
    {
     "name": "stdout",
     "output_type": "stream",
     "text": [
      "     * \n",
      "    * * \n",
      "   * * * \n",
      "  * * * * \n",
      " * * * * * \n"
     ]
    }
   ],
   "source": [
    "n = 5\n",
    "for i in range(n):\n",
    "    for j in range(i,n):\n",
    "        print(\" \",end=\"\")\n",
    "    for i in range(i+1):\n",
    "        print(\"*\",end=\" \")\n",
    "    print()"
   ]
  },
  {
   "cell_type": "markdown",
   "id": "d6b338dd",
   "metadata": {},
   "source": [
    "### 64. check if a number is palindrome or not"
   ]
  },
  {
   "cell_type": "code",
   "execution_count": 16,
   "id": "85b7c95a",
   "metadata": {},
   "outputs": [
    {
     "name": "stdout",
     "output_type": "stream",
     "text": [
      "True\n"
     ]
    }
   ],
   "source": [
    "n = 1001\n",
    "m = n\n",
    "sum = 0\n",
    "while m!=0:\n",
    "    d=m%10\n",
    "    sum=sum*10+d\n",
    "    m=m//10\n",
    "\n",
    "if sum == n:\n",
    "    print(True)\n",
    "else:\n",
    "    print(False)"
   ]
  },
  {
   "cell_type": "markdown",
   "id": "2514f2b8",
   "metadata": {},
   "source": [
    "### 65. check if number is spy number. means sum of its digits equal to the product of its digits"
   ]
  },
  {
   "cell_type": "code",
   "execution_count": 17,
   "id": "3bf4f373",
   "metadata": {},
   "outputs": [
    {
     "name": "stdout",
     "output_type": "stream",
     "text": [
      "Yes\n"
     ]
    }
   ],
   "source": [
    "n = 132\n",
    "m = n\n",
    "sum =0\n",
    "prod = 1\n",
    "while m!=0:\n",
    "    d=m%10\n",
    "    m=m//10\n",
    "    sum=sum+d\n",
    "    prod=prod*d\n",
    "\n",
    "if sum==prod:\n",
    "    print(\"Yes\")\n",
    "else:\n",
    "    print('No')"
   ]
  },
  {
   "cell_type": "markdown",
   "id": "bf9a68ea",
   "metadata": {},
   "source": [
    "### 66. check if a number is a special number. if sum of the digits plus product of the digit is equal to the original number"
   ]
  },
  {
   "cell_type": "code",
   "execution_count": 18,
   "id": "24b2244b",
   "metadata": {},
   "outputs": [
    {
     "name": "stdout",
     "output_type": "stream",
     "text": [
      "True\n"
     ]
    }
   ],
   "source": [
    "n = 59\n",
    "m = n\n",
    "sum =0\n",
    "prod = 1\n",
    "while m!=0:\n",
    "    d=m%10\n",
    "    m=m//10\n",
    "    sum=sum+d\n",
    "    prod=prod*d\n",
    "\n",
    "if sum+prod==n:\n",
    "    print(True)\n",
    "else:\n",
    "    print(False)"
   ]
  },
  {
   "cell_type": "markdown",
   "id": "d5f1d0f9",
   "metadata": {},
   "source": [
    "### 68. Check if a number is duck number or not  number which has zeros present in it."
   ]
  },
  {
   "cell_type": "code",
   "execution_count": 21,
   "id": "34d10674",
   "metadata": {},
   "outputs": [
    {
     "name": "stdout",
     "output_type": "stream",
     "text": [
      "yes\n",
      "No of zeros in number: 3\n"
     ]
    }
   ],
   "source": [
    "n = 1569000\n",
    "m =n\n",
    "count =0\n",
    "while m!=0:\n",
    "    d=m%10\n",
    "    m=m//10\n",
    "    if d==0 :\n",
    "        count+=1\n",
    "if count >0:\n",
    "    print(\"yes\")\n",
    "else:\n",
    "    print(\"no\")\n",
    "\n",
    "print(\"No of zeros in number:\",count)"
   ]
  },
  {
   "cell_type": "markdown",
   "id": "58f5d899",
   "metadata": {},
   "source": [
    "### 69. check if the number is neon number. number, digits of whose square are equal to the number itself. "
   ]
  },
  {
   "cell_type": "code",
   "execution_count": 42,
   "id": "04d8c34a",
   "metadata": {},
   "outputs": [
    {
     "name": "stdout",
     "output_type": "stream",
     "text": [
      "yes\n"
     ]
    }
   ],
   "source": [
    "n = 9\n",
    "m=n**2\n",
    "sum=0\n",
    "while m!=0:\n",
    "    d=m%10\n",
    "    sum=sum+d\n",
    "    m=m//10\n",
    "\n",
    "if sum==n:\n",
    "    print('yes')\n",
    "else:\n",
    "    print('no')"
   ]
  },
  {
   "cell_type": "markdown",
   "id": "be8c92b7",
   "metadata": {},
   "source": [
    "### 70. check if a number is automorphic number or not. it is a number which is contained in the last digit(s) of its square eg. 25 in 625 "
   ]
  },
  {
   "cell_type": "code",
   "execution_count": 43,
   "id": "72f89131",
   "metadata": {},
   "outputs": [
    {
     "name": "stdout",
     "output_type": "stream",
     "text": [
      "no\n"
     ]
    }
   ],
   "source": [
    "n=9\n",
    "flag = 0\n",
    "m =n\n",
    "q=n*n\n",
    "while m!=0:\n",
    "    d=m%10\n",
    "    d1=q%10\n",
    "    if d!=d1:\n",
    "        flag=1\n",
    "        m=m//10\n",
    "        q=q//10\n",
    "\n",
    "if flag ==0:\n",
    "    print(\"yes\")\n",
    "else:\n",
    "    print(\"no\")"
   ]
  },
  {
   "cell_type": "markdown",
   "id": "dcb548ed",
   "metadata": {},
   "source": [
    "### 71. check if a number is krishna murthy special number or not. a number which is equal to the sum of factorial of digits eg. 145=1!+4!+5!"
   ]
  },
  {
   "cell_type": "code",
   "execution_count": 24,
   "id": "b639387e",
   "metadata": {},
   "outputs": [
    {
     "name": "stdout",
     "output_type": "stream",
     "text": [
      "Yes\n"
     ]
    }
   ],
   "source": [
    "import math\n",
    "n =145\n",
    "m=n\n",
    "sum=0\n",
    "while m!=0:\n",
    "    d=m%10\n",
    "    sum=sum+math.factorial(d)\n",
    "    m=m//10\n",
    "\n",
    "if sum==n:\n",
    "    print(\"Yes\")\n",
    "else:\n",
    "    print(\"No\")\n",
    "    "
   ]
  },
  {
   "cell_type": "markdown",
   "id": "b590f34f",
   "metadata": {},
   "source": [
    "### 72. Find the factors of number"
   ]
  },
  {
   "cell_type": "code",
   "execution_count": 26,
   "id": "55fd60b2",
   "metadata": {},
   "outputs": [
    {
     "name": "stdout",
     "output_type": "stream",
     "text": [
      "1 2 3 5 6 9 10 15 18 30 45 90 "
     ]
    }
   ],
   "source": [
    "n=int(input(\"Enter a number:\"))\n",
    "for i in range(1,n+1):\n",
    "    if n%i==0:\n",
    "        print(i,end=' ')"
   ]
  },
  {
   "cell_type": "markdown",
   "id": "039d8958",
   "metadata": {},
   "source": [
    "### 73. Find if a number is prime or not"
   ]
  },
  {
   "cell_type": "code",
   "execution_count": 33,
   "id": "242611d4",
   "metadata": {},
   "outputs": [
    {
     "name": "stdout",
     "output_type": "stream",
     "text": [
      "7 is prime\n"
     ]
    }
   ],
   "source": [
    "n=int(input(\"Enter a number:\"))\n",
    "count=0\n",
    "for i in range(1,n+1):\n",
    "    if n%i == 0:\n",
    "        count+=1\n",
    "\n",
    "if count==2:\n",
    "    print(f\"{n} is prime\")\n",
    "else:\n",
    "    print(f'{n} is not prime')\n"
   ]
  },
  {
   "cell_type": "markdown",
   "id": "60a300a7",
   "metadata": {},
   "source": [
    "### 74. Find if a number is a perfect number. A number is equal to sum of its factors or divisors, other than the number itself"
   ]
  },
  {
   "cell_type": "code",
   "execution_count": 36,
   "id": "7b41de21",
   "metadata": {},
   "outputs": [
    {
     "name": "stdout",
     "output_type": "stream",
     "text": [
      "no\n"
     ]
    }
   ],
   "source": [
    "n=int(input(\"Enter a number:\"))\n",
    "sum=0\n",
    "for i in range(1,n-1):\n",
    "    if n%i==0:\n",
    "        sum=sum+1\n",
    "\n",
    "if n==sum:\n",
    "    print(\"yes\")\n",
    "else:\n",
    "    print('no')"
   ]
  },
  {
   "cell_type": "markdown",
   "id": "226d2e06",
   "metadata": {},
   "source": [
    "### 75. Find if a number is composite number or not a number having more than one factor other than 1 and itself"
   ]
  },
  {
   "cell_type": "code",
   "execution_count": 40,
   "id": "a0c2b232",
   "metadata": {},
   "outputs": [
    {
     "name": "stdout",
     "output_type": "stream",
     "text": [
      "6 composite number\n"
     ]
    }
   ],
   "source": [
    "n=int(input(\"Enter a number:\"))\n",
    "count=0\n",
    "for i in range(1,n+1):\n",
    "    if n%i==0:\n",
    "        count+=1\n",
    "if count>2:\n",
    "    print(f\"{n} composite number\")\n",
    "else:\n",
    "    print(f\"{n} not a composite number\")"
   ]
  },
  {
   "cell_type": "markdown",
   "id": "222e72ef",
   "metadata": {},
   "source": [
    "### 76. find if the number is an abundant number or deficient. here the sum of factors of the number is greater than the number itself."
   ]
  },
  {
   "cell_type": "code",
   "execution_count": 41,
   "id": "4c3a35d2",
   "metadata": {},
   "outputs": [
    {
     "name": "stdout",
     "output_type": "stream",
     "text": [
      "6 Not Abundant number\n"
     ]
    }
   ],
   "source": [
    "n=int(input(\"Enter a number:\"))\n",
    "sum=0\n",
    "for i in range(1,n):\n",
    "    if n%i==0:\n",
    "        sum=sum+1\n",
    "if sum>n:\n",
    "    print(f\"{n} Abundant number\")\n",
    "else:\n",
    "    print(f\"{n} Not Abundant number\")"
   ]
  },
  {
   "cell_type": "markdown",
   "id": "86866674",
   "metadata": {},
   "source": [
    "### 77. find if the number is pronic or not. number which is the product of the consective number."
   ]
  },
  {
   "cell_type": "code",
   "execution_count": 42,
   "id": "6dcb50c3",
   "metadata": {},
   "outputs": [
    {
     "name": "stdout",
     "output_type": "stream",
     "text": [
      "7not a pronic number \n"
     ]
    }
   ],
   "source": [
    "n=int(input(\"Enter a number:\"))\n",
    "fact=0\n",
    "for i in range(1,n+1):\n",
    "    if (i*(i*1)==n):\n",
    "        print(f\"{i}*{i+1}={n}\")\n",
    "        fact=i\n",
    "if fact>0:\n",
    "    print(f\"{n}pronic number\")\n",
    "else:\n",
    "    print(f\"{n}not a pronic number \")"
   ]
  },
  {
   "cell_type": "markdown",
   "id": "a74511c9",
   "metadata": {},
   "source": [
    "### 78. Arithematic series- sequence where the difference between two consecutive terms are the same ###\n",
    "\n",
    "            1+2+3+5+6+....+n"
   ]
  },
  {
   "cell_type": "code",
   "execution_count": 3,
   "id": "9fc23720",
   "metadata": {},
   "outputs": [
    {
     "name": "stdout",
     "output_type": "stream",
     "text": [
      "sum of the number:55\n"
     ]
    }
   ],
   "source": [
    "n = int(input(\"Enter the number:\"))\n",
    "sum =0 \n",
    "for i in range(1,n+1):\n",
    "    sum+=i\n",
    "print(f\"sum of the number:{sum}\")"
   ]
  },
  {
   "cell_type": "markdown",
   "id": "e24393ac",
   "metadata": {},
   "source": [
    "          9+13+17+...+n"
   ]
  },
  {
   "cell_type": "code",
   "execution_count": 4,
   "id": "2b31d938",
   "metadata": {},
   "outputs": [
    {
     "name": "stdout",
     "output_type": "stream",
     "text": [
      "sum:940\n"
     ]
    }
   ],
   "source": [
    "n=int(input('Enter the number:'))\n",
    "sum=0\n",
    "s = 9\n",
    "for i in range(n):\n",
    "    sum=sum+s\n",
    "    s+=4\n",
    "print(f\"sum:{sum}\")\n"
   ]
  },
  {
   "cell_type": "markdown",
   "id": "cfda59fc",
   "metadata": {},
   "source": [
    "            2+4+6+8+...+n"
   ]
  },
  {
   "cell_type": "code",
   "execution_count": 14,
   "id": "427664ce",
   "metadata": {},
   "outputs": [
    {
     "name": "stdout",
     "output_type": "stream",
     "text": [
      "number:20\n",
      "sumof number:420\n"
     ]
    }
   ],
   "source": [
    "n = int(input(\"Enter the number:\"))\n",
    "sum = 0\n",
    "s = 2\n",
    "for i in range(1,n+1):\n",
    "    sum=sum+s\n",
    "    s+=2\n",
    "print(\"number:%d\"%n)\n",
    "print('sumof number:%d'%sum)\n"
   ]
  },
  {
   "cell_type": "markdown",
   "id": "57a7b659",
   "metadata": {},
   "source": [
    "            1+3+5+7+....+n"
   ]
  },
  {
   "cell_type": "code",
   "execution_count": 13,
   "id": "54a58e41",
   "metadata": {},
   "outputs": [
    {
     "name": "stdout",
     "output_type": "stream",
     "text": [
      "number:20\n",
      "sum of number:400\n"
     ]
    }
   ],
   "source": [
    "n=int(input(\"Enter the number:\"))\n",
    "sum =0\n",
    "s=1\n",
    "for i in range(1,n+1):\n",
    "    sum=sum+s\n",
    "    s+=2\n",
    "print(f\"number:{n}\")\n",
    "print(f\"sum of number:{sum}\")\n"
   ]
  },
  {
   "cell_type": "markdown",
   "id": "42943572",
   "metadata": {},
   "source": [
    "            10+9+8+...+n"
   ]
  },
  {
   "cell_type": "code",
   "execution_count": 16,
   "id": "8f437a68",
   "metadata": {},
   "outputs": [
    {
     "name": "stdout",
     "output_type": "stream",
     "text": [
      "number:10\n",
      "sum of number:55\n"
     ]
    }
   ],
   "source": [
    "n = int(input(\"Enter the number:\"))\n",
    "sum = 0\n",
    "s = 10\n",
    "for i in range(1,n+1):\n",
    "    sum=sum+s\n",
    "    s-=1\n",
    "print(f\"number:{n}\")\n",
    "print(f\"sum of number:{sum}\")"
   ]
  },
  {
   "cell_type": "code",
   "execution_count": 18,
   "id": "f40d123f",
   "metadata": {},
   "outputs": [
    {
     "name": "stdout",
     "output_type": "stream",
     "text": [
      "number: 5\n",
      "number X: 3\n",
      "sum of series: 363\n"
     ]
    }
   ],
   "source": [
    "n = int(input(\"Enter the number:\"))\n",
    "x = int(input(\"enter the X:\"))\n",
    "sum = 0\n",
    "for i in range(1,n+1):\n",
    "    sum = sum+x**i\n",
    "print(\"number:\",n)\n",
    "print(\"number X:\",x)\n",
    "print(\"sum of series:\",sum)"
   ]
  },
  {
   "cell_type": "code",
   "execution_count": 22,
   "id": "ab2ab601",
   "metadata": {},
   "outputs": [
    {
     "name": "stdout",
     "output_type": "stream",
     "text": [
      "number:5\n",
      "x:2\n",
      "Sum of the series: 7.755630567314425e+24\n"
     ]
    }
   ],
   "source": [
    "import math as m\n",
    "n = int(input(\"Enter the N:\"))\n",
    "x = int(input(\"Enter the X:\"))\n",
    "sum=0\n",
    "a=9\n",
    "for i in range(1,n+1):\n",
    "    sum=sum+m.factorial(a)/x\n",
    "    a+=4\n",
    "print(f\"number:{n}\")\n",
    "print(f'x:{x}')\n",
    "print(\"Sum of the series:\",sum)"
   ]
  },
  {
   "cell_type": "code",
   "execution_count": 2,
   "id": "21f12be7",
   "metadata": {},
   "outputs": [
    {
     "name": "stdout",
     "output_type": "stream",
     "text": [
      "Number N: 20\n",
      "Number X: 2\n",
      "sum of series: 11480\n"
     ]
    }
   ],
   "source": [
    "n = int(input(\"Enter the number:\"))\n",
    "x = int(input(\"Enter the X:\"))\n",
    "if 20>=n:\n",
    "    sum=0\n",
    "    a=2\n",
    "    for i in range(1,n+1):\n",
    "        sum=sum+a**x\n",
    "        a+=2\n",
    "else:\n",
    "    print(\"you only upto 20\")\n",
    "\n",
    "print(f\"Number N:\",n)\n",
    "print(f\"Number X:\",x)\n",
    "print(f\"sum of series:\",sum)\n"
   ]
  },
  {
   "cell_type": "code",
   "execution_count": null,
   "id": "f117d51a",
   "metadata": {},
   "outputs": [],
   "source": []
  },
  {
   "cell_type": "code",
   "execution_count": 23,
   "id": "b0aa288c",
   "metadata": {},
   "outputs": [
    {
     "name": "stdout",
     "output_type": "stream",
     "text": [
      "A\n",
      "b\n",
      "C\n",
      "d\n",
      "E\n",
      "f\n",
      "G\n",
      "h\n",
      "I\n",
      "j\n",
      "K\n",
      "l\n",
      "M\n",
      "n\n",
      "O\n",
      "p\n",
      "Q\n",
      "r\n",
      "S\n",
      "t\n",
      "U\n",
      "v\n",
      "W\n",
      "x\n",
      "Y\n",
      "z\n"
     ]
    }
   ],
   "source": [
    "capital = True\n",
    "car = 'a'\n",
    "for i in range(65,91):\n",
    "    if capital :\n",
    "        capital = False\n",
    "        car = chr(i)\n",
    "    else:\n",
    "        capital = True\n",
    "        car = chr(i + 32)\n",
    "    print(car)\n"
   ]
  }
 ],
 "metadata": {
  "kernelspec": {
   "display_name": "base",
   "language": "python",
   "name": "python3"
  },
  "language_info": {
   "codemirror_mode": {
    "name": "ipython",
    "version": 3
   },
   "file_extension": ".py",
   "mimetype": "text/x-python",
   "name": "python",
   "nbconvert_exporter": "python",
   "pygments_lexer": "ipython3",
   "version": "3.12.7"
  }
 },
 "nbformat": 4,
 "nbformat_minor": 5
}
